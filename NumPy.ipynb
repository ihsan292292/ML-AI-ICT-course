{
 "cells": [
  {
   "cell_type": "markdown",
   "metadata": {},
   "source": [
    "# Assignment 1 NumPy\n",
    "\n"
   ]
  },
  {
   "cell_type": "code",
   "execution_count": 6,
   "metadata": {
    "jupyter": {
     "outputs_hidden": false
    }
   },
   "outputs": [],
   "source": [
    "#Import the libraries \n",
    "import numpy as np"
   ]
  },
  {
   "cell_type": "markdown",
   "metadata": {},
   "source": [
    "# Problem 1 \n",
    "Matrix Manipulations\n",
    "\n",
    "Lets first create a matrix and perform some manipulations of it.\n",
    "\n",
    "Using numpy's matrix data structure, define the following matricies:\n",
    "\n",
    "$$A=\\left[ \\begin{array}{ccc} 3 & 5 & 9 \\\\ 3 & 3 & 4 \\\\ 5 & 9 & 17 \\end{array} \\right]$$\n",
    "\n",
    "$$B=\\left[ \\begin{array}{c} 2 \\\\ 1 \\\\ 4 \\end{array} \\right]$$\n",
    "\n",
    "After this solve the matrix equation:\n",
    "$$Ax = B$$"
   ]
  },
  {
   "cell_type": "code",
   "execution_count": 5,
   "metadata": {},
   "outputs": [
    {
     "name": "stdout",
     "output_type": "stream",
     "text": [
      "[[ 3  5  9]\n",
      " [ 3  3  4]\n",
      " [ 5  9 17]]\n",
      "[[2]\n",
      " [1]\n",
      " [4]]\n",
      "[[2.]\n",
      " [1.]\n",
      " [4.]]\n"
     ]
    }
   ],
   "source": [
    "a = np.array([[3, 5, 9], [3, 3, 4], [5, 9, 17]])\n",
    "print(a)\n",
    "b = np.array([[2], [1], [4]])\n",
    "print(b)\n",
    "x = np.linalg.solve(a, b)\n",
    "m3 = np.dot(a,x) \n",
    "print(m3)"
   ]
  },
  {
   "cell_type": "markdown",
   "metadata": {
    "collapsed": true,
    "jupyter": {
     "outputs_hidden": true
    }
   },
   "source": [
    "# Problem 2\n",
    "Create a result array by adding the following two NumPy arrays. Next, modify the result array by calculating the square of each element\n",
    "Input: $$arrayOne = \\left[\\begin{array}{ccc} 5& 6& 9\\\\ 21 & 18 & 27\\end{array}\\right]$$\n",
    "       $$arrayTwo = \\left[\\begin{array}{ccc} 15 &33& 24\\\\ 4 &7& 1\\end{array}\\right]$$\n",
    "\n"
   ]
  },
  {
   "cell_type": "code",
   "execution_count": 4,
   "metadata": {},
   "outputs": [
    {
     "name": "stdout",
     "output_type": "stream",
     "text": [
      "[[20 39 33]\n",
      " [25 25 28]]\n",
      "square of each element [[400, 1521, 1089], [625, 625, 784]]\n"
     ]
    }
   ],
   "source": [
    "M1 = np.array([[5, 6, 9], [21, 18, 27]])\n",
    "M2 = np.array([[15, 33, 24], [4, 7, 1]])\n",
    "M3 = M1+M2\n",
    "print(M3)\n",
    "sqd = [[elem*elem for elem in inner] for inner in M3]\n",
    "print('square of each element',sqd)"
   ]
  },
  {
   "attachments": {},
   "cell_type": "markdown",
   "metadata": {},
   "source": [
    "# Problem 3\n",
    "Print max from axis 0 and min from axis 1 from the following 2-D array.\\\n",
    "$$sampleArray = \\left[\\begin{array}{ccc} 34&43&73 \\\\ 82&22&12 \\\\ 53&94&66 \\end{array}\\right]$$\n",
    "\n",
    "\n"
   ]
  },
  {
   "cell_type": "code",
   "execution_count": 3,
   "metadata": {},
   "outputs": [
    {
     "name": "stdout",
     "output_type": "stream",
     "text": [
      "Printing Original array\n",
      "[[34 43 73]\n",
      " [82 22 12]\n",
      " [53 94 66]]\n",
      "Printing amin Of Axis 1\n",
      "[34 12 53]\n",
      "Printing amax Of Axis 0\n",
      "[82 94 73]\n"
     ]
    }
   ],
   "source": [
    "print(\"Printing Original array\")\n",
    "M1 = np.array([[34,43,73],[82,22,12],[53,94,66]]) \n",
    "print (M1)\n",
    "\n",
    "minOfAxisOne = np.amin(M1, 1) \n",
    "print(\"Printing amin Of Axis 1\")\n",
    "print(minOfAxisOne)\n",
    "\n",
    "maxOfAxisOne = np.amax(M1, 0) \n",
    "print(\"Printing amax Of Axis 0\")\n",
    "print(maxOfAxisOne)"
   ]
  },
  {
   "cell_type": "markdown",
   "metadata": {},
   "source": [
    "# Problem 4\n",
    "Get the positions where elements of a and b match\\\n",
    "Input:  a = np.array([1,2,3,2,3,4,3,4,5,6])\\\n",
    "b = np.array([7,2,10,2,7,4,9,4,9,8])\\\n",
    "Desired Output: array([1, 3, 5, 7])"
   ]
  },
  {
   "cell_type": "code",
   "execution_count": 2,
   "metadata": {},
   "outputs": [
    {
     "name": "stdout",
     "output_type": "stream",
     "text": [
      "[1 3 5 7]\n"
     ]
    }
   ],
   "source": [
    "a = np.array([1,2,3,2,3,4,3,4,5,6])\n",
    "b = np.array([7,2,10,2,7,4,9,4,9,8])\n",
    "\n",
    "print(np.arange(len(a))[a==b])"
   ]
  },
  {
   "cell_type": "markdown",
   "metadata": {},
   "source": [
    "# Problem 5\n",
    "Given \n",
    "$$a= \\left[\\begin{array}{cc} 1&2\\\\ 3&4 \\end{array}\\right]$$\n",
    "$$b = \\left[\\begin{array}{cc} 5&6 \\\\ 7&8 \\end{array}\\right]$$\n",
    "Obtain c and d\n",
    "$$c = \\left[\\begin{array}{cc} 1&2\\\\ 3&4 \\\\ 5&6 \\\\ 7&8 \\end{array}\\right]$$\n",
    "$$d = \\left[\\begin{array}{cccc} 1&2&5&6\\\\ 3&4&7&8 \\end{array}\\right]$$"
   ]
  },
  {
   "cell_type": "code",
   "execution_count": 7,
   "metadata": {},
   "outputs": [
    {
     "name": "stdout",
     "output_type": "stream",
     "text": [
      "[[1 2]\n",
      " [3 4]\n",
      " [5 6]\n",
      " [7 8]]\n",
      "[[1 2 5 6]\n",
      " [3 4 7 8]]\n"
     ]
    }
   ],
   "source": [
    "a = np.array([[1,2],[3,4]])\n",
    "b = np.array([[5,6],[7,8]])\n",
    "c = np.append(a,b, 0)\n",
    "print(c)\n",
    "d = np.append(a,b, 1)\n",
    "print(d)"
   ]
  }
 ],
 "metadata": {
  "kernelspec": {
   "display_name": "Python 3",
   "language": "python",
   "name": "python3"
  },
  "language_info": {
   "codemirror_mode": {
    "name": "ipython",
    "version": 3
   },
   "file_extension": ".py",
   "mimetype": "text/x-python",
   "name": "python",
   "nbconvert_exporter": "python",
   "pygments_lexer": "ipython3",
   "version": "3.11.1"
  },
  "vscode": {
   "interpreter": {
    "hash": "449c8e2da2d50645573d3a78189e38345b85096978a1b2c8f05bd0dfae3df97c"
   }
  }
 },
 "nbformat": 4,
 "nbformat_minor": 4
}
