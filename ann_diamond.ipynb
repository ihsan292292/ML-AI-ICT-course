{
 "cells": [
  {
   "cell_type": "code",
   "execution_count": 2,
   "id": "58111bbd-b632-4bc0-b4b5-e5029e022885",
   "metadata": {},
   "outputs": [],
   "source": [
    "import pandas as pd\n",
    "import numpy as np\n",
    "import matplotlib.pyplot as plt"
   ]
  },
  {
   "cell_type": "code",
   "execution_count": 3,
   "id": "f725add4-ff24-422a-ad87-6613da4b5786",
   "metadata": {},
   "outputs": [
    {
     "data": {
      "text/html": [
       "<div>\n",
       "<style scoped>\n",
       "    .dataframe tbody tr th:only-of-type {\n",
       "        vertical-align: middle;\n",
       "    }\n",
       "\n",
       "    .dataframe tbody tr th {\n",
       "        vertical-align: top;\n",
       "    }\n",
       "\n",
       "    .dataframe thead th {\n",
       "        text-align: right;\n",
       "    }\n",
       "</style>\n",
       "<table border=\"1\" class=\"dataframe\">\n",
       "  <thead>\n",
       "    <tr style=\"text-align: right;\">\n",
       "      <th></th>\n",
       "      <th>carat</th>\n",
       "      <th>cut</th>\n",
       "      <th>color</th>\n",
       "      <th>clarity</th>\n",
       "      <th>table</th>\n",
       "      <th>x</th>\n",
       "      <th>y</th>\n",
       "      <th>z</th>\n",
       "      <th>price_new</th>\n",
       "    </tr>\n",
       "  </thead>\n",
       "  <tbody>\n",
       "    <tr>\n",
       "      <th>0</th>\n",
       "      <td>0.23</td>\n",
       "      <td>Ideal</td>\n",
       "      <td>E</td>\n",
       "      <td>SI2</td>\n",
       "      <td>55.0</td>\n",
       "      <td>3.95</td>\n",
       "      <td>3.98</td>\n",
       "      <td>2.43</td>\n",
       "      <td>163.0</td>\n",
       "    </tr>\n",
       "    <tr>\n",
       "      <th>1</th>\n",
       "      <td>0.21</td>\n",
       "      <td>Premium</td>\n",
       "      <td>E</td>\n",
       "      <td>SI1</td>\n",
       "      <td>61.0</td>\n",
       "      <td>3.89</td>\n",
       "      <td>3.84</td>\n",
       "      <td>2.31</td>\n",
       "      <td>163.0</td>\n",
       "    </tr>\n",
       "    <tr>\n",
       "      <th>2</th>\n",
       "      <td>0.23</td>\n",
       "      <td>Good</td>\n",
       "      <td>E</td>\n",
       "      <td>VS1</td>\n",
       "      <td>65.0</td>\n",
       "      <td>4.05</td>\n",
       "      <td>4.07</td>\n",
       "      <td>2.31</td>\n",
       "      <td>163.5</td>\n",
       "    </tr>\n",
       "    <tr>\n",
       "      <th>3</th>\n",
       "      <td>0.29</td>\n",
       "      <td>Premium</td>\n",
       "      <td>I</td>\n",
       "      <td>VS2</td>\n",
       "      <td>58.0</td>\n",
       "      <td>4.20</td>\n",
       "      <td>4.23</td>\n",
       "      <td>2.63</td>\n",
       "      <td>167.0</td>\n",
       "    </tr>\n",
       "    <tr>\n",
       "      <th>4</th>\n",
       "      <td>0.31</td>\n",
       "      <td>Good</td>\n",
       "      <td>J</td>\n",
       "      <td>SI2</td>\n",
       "      <td>58.0</td>\n",
       "      <td>4.34</td>\n",
       "      <td>4.35</td>\n",
       "      <td>2.75</td>\n",
       "      <td>167.5</td>\n",
       "    </tr>\n",
       "    <tr>\n",
       "      <th>5</th>\n",
       "      <td>0.24</td>\n",
       "      <td>Very Good</td>\n",
       "      <td>J</td>\n",
       "      <td>VVS2</td>\n",
       "      <td>57.0</td>\n",
       "      <td>3.94</td>\n",
       "      <td>3.96</td>\n",
       "      <td>2.48</td>\n",
       "      <td>168.0</td>\n",
       "    </tr>\n",
       "    <tr>\n",
       "      <th>6</th>\n",
       "      <td>0.24</td>\n",
       "      <td>Very Good</td>\n",
       "      <td>I</td>\n",
       "      <td>VVS1</td>\n",
       "      <td>57.0</td>\n",
       "      <td>3.95</td>\n",
       "      <td>3.98</td>\n",
       "      <td>2.47</td>\n",
       "      <td>168.0</td>\n",
       "    </tr>\n",
       "    <tr>\n",
       "      <th>7</th>\n",
       "      <td>0.26</td>\n",
       "      <td>Very Good</td>\n",
       "      <td>H</td>\n",
       "      <td>SI1</td>\n",
       "      <td>55.0</td>\n",
       "      <td>4.07</td>\n",
       "      <td>4.11</td>\n",
       "      <td>2.53</td>\n",
       "      <td>168.5</td>\n",
       "    </tr>\n",
       "    <tr>\n",
       "      <th>8</th>\n",
       "      <td>0.22</td>\n",
       "      <td>Fair</td>\n",
       "      <td>E</td>\n",
       "      <td>VS2</td>\n",
       "      <td>61.0</td>\n",
       "      <td>3.87</td>\n",
       "      <td>3.78</td>\n",
       "      <td>2.49</td>\n",
       "      <td>168.5</td>\n",
       "    </tr>\n",
       "    <tr>\n",
       "      <th>9</th>\n",
       "      <td>0.23</td>\n",
       "      <td>Very Good</td>\n",
       "      <td>H</td>\n",
       "      <td>VS1</td>\n",
       "      <td>61.0</td>\n",
       "      <td>4.00</td>\n",
       "      <td>4.05</td>\n",
       "      <td>2.39</td>\n",
       "      <td>169.0</td>\n",
       "    </tr>\n",
       "    <tr>\n",
       "      <th>10</th>\n",
       "      <td>0.30</td>\n",
       "      <td>Good</td>\n",
       "      <td>J</td>\n",
       "      <td>SI1</td>\n",
       "      <td>55.0</td>\n",
       "      <td>4.25</td>\n",
       "      <td>4.28</td>\n",
       "      <td>2.73</td>\n",
       "      <td>169.5</td>\n",
       "    </tr>\n",
       "    <tr>\n",
       "      <th>11</th>\n",
       "      <td>0.23</td>\n",
       "      <td>Ideal</td>\n",
       "      <td>J</td>\n",
       "      <td>VS1</td>\n",
       "      <td>56.0</td>\n",
       "      <td>3.93</td>\n",
       "      <td>3.90</td>\n",
       "      <td>2.46</td>\n",
       "      <td>170.0</td>\n",
       "    </tr>\n",
       "    <tr>\n",
       "      <th>12</th>\n",
       "      <td>0.22</td>\n",
       "      <td>Premium</td>\n",
       "      <td>F</td>\n",
       "      <td>SI1</td>\n",
       "      <td>61.0</td>\n",
       "      <td>3.88</td>\n",
       "      <td>3.84</td>\n",
       "      <td>2.33</td>\n",
       "      <td>171.0</td>\n",
       "    </tr>\n",
       "    <tr>\n",
       "      <th>13</th>\n",
       "      <td>0.31</td>\n",
       "      <td>Ideal</td>\n",
       "      <td>J</td>\n",
       "      <td>SI2</td>\n",
       "      <td>54.0</td>\n",
       "      <td>4.35</td>\n",
       "      <td>4.37</td>\n",
       "      <td>2.71</td>\n",
       "      <td>172.0</td>\n",
       "    </tr>\n",
       "    <tr>\n",
       "      <th>14</th>\n",
       "      <td>0.20</td>\n",
       "      <td>Premium</td>\n",
       "      <td>E</td>\n",
       "      <td>SI2</td>\n",
       "      <td>62.0</td>\n",
       "      <td>3.79</td>\n",
       "      <td>3.75</td>\n",
       "      <td>2.27</td>\n",
       "      <td>172.5</td>\n",
       "    </tr>\n",
       "    <tr>\n",
       "      <th>15</th>\n",
       "      <td>0.32</td>\n",
       "      <td>Premium</td>\n",
       "      <td>E</td>\n",
       "      <td>I1</td>\n",
       "      <td>58.0</td>\n",
       "      <td>4.38</td>\n",
       "      <td>4.42</td>\n",
       "      <td>2.68</td>\n",
       "      <td>172.5</td>\n",
       "    </tr>\n",
       "    <tr>\n",
       "      <th>16</th>\n",
       "      <td>0.30</td>\n",
       "      <td>Ideal</td>\n",
       "      <td>I</td>\n",
       "      <td>SI2</td>\n",
       "      <td>54.0</td>\n",
       "      <td>4.31</td>\n",
       "      <td>4.34</td>\n",
       "      <td>2.68</td>\n",
       "      <td>174.0</td>\n",
       "    </tr>\n",
       "    <tr>\n",
       "      <th>17</th>\n",
       "      <td>0.30</td>\n",
       "      <td>Good</td>\n",
       "      <td>J</td>\n",
       "      <td>SI1</td>\n",
       "      <td>54.0</td>\n",
       "      <td>4.23</td>\n",
       "      <td>4.29</td>\n",
       "      <td>2.70</td>\n",
       "      <td>175.5</td>\n",
       "    </tr>\n",
       "    <tr>\n",
       "      <th>18</th>\n",
       "      <td>0.30</td>\n",
       "      <td>Good</td>\n",
       "      <td>J</td>\n",
       "      <td>SI1</td>\n",
       "      <td>56.0</td>\n",
       "      <td>4.23</td>\n",
       "      <td>4.26</td>\n",
       "      <td>2.71</td>\n",
       "      <td>175.5</td>\n",
       "    </tr>\n",
       "  </tbody>\n",
       "</table>\n",
       "</div>"
      ],
      "text/plain": [
       "    carat        cut color clarity  table     x     y     z  price_new\n",
       "0    0.23      Ideal     E     SI2   55.0  3.95  3.98  2.43      163.0\n",
       "1    0.21    Premium     E     SI1   61.0  3.89  3.84  2.31      163.0\n",
       "2    0.23       Good     E     VS1   65.0  4.05  4.07  2.31      163.5\n",
       "3    0.29    Premium     I     VS2   58.0  4.20  4.23  2.63      167.0\n",
       "4    0.31       Good     J     SI2   58.0  4.34  4.35  2.75      167.5\n",
       "5    0.24  Very Good     J    VVS2   57.0  3.94  3.96  2.48      168.0\n",
       "6    0.24  Very Good     I    VVS1   57.0  3.95  3.98  2.47      168.0\n",
       "7    0.26  Very Good     H     SI1   55.0  4.07  4.11  2.53      168.5\n",
       "8    0.22       Fair     E     VS2   61.0  3.87  3.78  2.49      168.5\n",
       "9    0.23  Very Good     H     VS1   61.0  4.00  4.05  2.39      169.0\n",
       "10   0.30       Good     J     SI1   55.0  4.25  4.28  2.73      169.5\n",
       "11   0.23      Ideal     J     VS1   56.0  3.93  3.90  2.46      170.0\n",
       "12   0.22    Premium     F     SI1   61.0  3.88  3.84  2.33      171.0\n",
       "13   0.31      Ideal     J     SI2   54.0  4.35  4.37  2.71      172.0\n",
       "14   0.20    Premium     E     SI2   62.0  3.79  3.75  2.27      172.5\n",
       "15   0.32    Premium     E      I1   58.0  4.38  4.42  2.68      172.5\n",
       "16   0.30      Ideal     I     SI2   54.0  4.31  4.34  2.68      174.0\n",
       "17   0.30       Good     J     SI1   54.0  4.23  4.29  2.70      175.5\n",
       "18   0.30       Good     J     SI1   56.0  4.23  4.26  2.71      175.5"
      ]
     },
     "execution_count": 3,
     "metadata": {},
     "output_type": "execute_result"
    }
   ],
   "source": [
    "df = pd.read_csv(\"diamonds_new.csv\")\n",
    "df.head(19)"
   ]
  },
  {
   "cell_type": "code",
   "execution_count": 4,
   "id": "bfd99af9-1e70-4ddb-a9f6-722e23afce57",
   "metadata": {},
   "outputs": [
    {
     "name": "stdout",
     "output_type": "stream",
     "text": [
      "<class 'pandas.core.frame.DataFrame'>\n",
      "RangeIndex: 53940 entries, 0 to 53939\n",
      "Data columns (total 9 columns):\n",
      " #   Column     Non-Null Count  Dtype  \n",
      "---  ------     --------------  -----  \n",
      " 0   carat      53841 non-null  float64\n",
      " 1   cut        53940 non-null  object \n",
      " 2   color      53884 non-null  object \n",
      " 3   clarity    53940 non-null  object \n",
      " 4   table      53877 non-null  float64\n",
      " 5   x          53940 non-null  float64\n",
      " 6   y          53940 non-null  float64\n",
      " 7   z          53940 non-null  float64\n",
      " 8   price_new  53940 non-null  float64\n",
      "dtypes: float64(6), object(3)\n",
      "memory usage: 3.7+ MB\n"
     ]
    }
   ],
   "source": [
    "df.info()"
   ]
  },
  {
   "cell_type": "code",
   "execution_count": 5,
   "id": "62c0761a-457f-4567-8118-8a4a6f7a19c4",
   "metadata": {},
   "outputs": [
    {
     "data": {
      "text/plain": [
       "carat        99\n",
       "cut           0\n",
       "color        56\n",
       "clarity       0\n",
       "table        63\n",
       "x             0\n",
       "y             0\n",
       "z             0\n",
       "price_new     0\n",
       "dtype: int64"
      ]
     },
     "execution_count": 5,
     "metadata": {},
     "output_type": "execute_result"
    }
   ],
   "source": [
    "df.isna().sum()"
   ]
  },
  {
   "cell_type": "code",
   "execution_count": 6,
   "id": "037005d1-d5f8-46eb-bde2-1107630bffb5",
   "metadata": {},
   "outputs": [
    {
     "data": {
      "text/plain": [
       "<Axes: >"
      ]
     },
     "execution_count": 6,
     "metadata": {},
     "output_type": "execute_result"
    },
    {
     "data": {
      "image/png": "[encoded data removed]",
      "text/plain": [
       "<Figure size 640x480 with 1 Axes>"
      ]
     },
     "metadata": {},
     "output_type": "display_data"
    }
   ],
   "source": [
    "df['carat'].hist()"
   ]
  },
  {
   "cell_type": "code",
   "execution_count": 7,
   "id": "cf7ad84d-6903-4330-938e-9dc445cf6d22",
   "metadata": {},
   "outputs": [
    {
     "data": {
      "text/plain": [
       "<Axes: >"
      ]
     },
     "execution_count": 7,
     "metadata": {},
     "output_type": "execute_result"
    },
    {
     "data": {
      "image/png": "[encoded data removed]",
      "text/plain": [
       "<Figure size 640x480 with 1 Axes>"
      ]
     },
     "metadata": {},
     "output_type": "display_data"
    }
   ],
   "source": [
    "df['table'].hist()"
   ]
  },
  {
   "cell_type": "code",
   "execution_count": 8,
   "id": "25dfa455-09b9-4bf8-8586-2148a5b697c3",
   "metadata": {},
   "outputs": [
    {
     "data": {
      "text/html": [
       "<div>\n",
       "<style scoped>\n",
       "    .dataframe tbody tr th:only-of-type {\n",
       "        vertical-align: middle;\n",
       "    }\n",
       "\n",
       "    .dataframe tbody tr th {\n",
       "        vertical-align: top;\n",
       "    }\n",
       "\n",
       "    .dataframe thead th {\n",
       "        text-align: right;\n",
       "    }\n",
       "</style>\n",
       "<table border=\"1\" class=\"dataframe\">\n",
       "  <thead>\n",
       "    <tr style=\"text-align: right;\">\n",
       "      <th></th>\n",
       "      <th>carat</th>\n",
       "      <th>table</th>\n",
       "      <th>x</th>\n",
       "      <th>y</th>\n",
       "      <th>z</th>\n",
       "      <th>price_new</th>\n",
       "    </tr>\n",
       "  </thead>\n",
       "  <tbody>\n",
       "    <tr>\n",
       "      <th>count</th>\n",
       "      <td>53841.000000</td>\n",
       "      <td>53877.000000</td>\n",
       "      <td>53940.000000</td>\n",
       "      <td>53940.000000</td>\n",
       "      <td>53940.000000</td>\n",
       "      <td>53940.000000</td>\n",
       "    </tr>\n",
       "    <tr>\n",
       "      <th>mean</th>\n",
       "      <td>0.798120</td>\n",
       "      <td>57.457719</td>\n",
       "      <td>5.731157</td>\n",
       "      <td>5.734526</td>\n",
       "      <td>3.539635</td>\n",
       "      <td>1966.399861</td>\n",
       "    </tr>\n",
       "    <tr>\n",
       "      <th>std</th>\n",
       "      <td>0.474428</td>\n",
       "      <td>2.235742</td>\n",
       "      <td>1.121761</td>\n",
       "      <td>1.142135</td>\n",
       "      <td>0.703869</td>\n",
       "      <td>1994.719869</td>\n",
       "    </tr>\n",
       "    <tr>\n",
       "      <th>min</th>\n",
       "      <td>0.200000</td>\n",
       "      <td>43.000000</td>\n",
       "      <td>0.000000</td>\n",
       "      <td>0.000000</td>\n",
       "      <td>0.000000</td>\n",
       "      <td>163.000000</td>\n",
       "    </tr>\n",
       "    <tr>\n",
       "      <th>25%</th>\n",
       "      <td>0.400000</td>\n",
       "      <td>56.000000</td>\n",
       "      <td>4.710000</td>\n",
       "      <td>4.720000</td>\n",
       "      <td>2.910000</td>\n",
       "      <td>475.000000</td>\n",
       "    </tr>\n",
       "    <tr>\n",
       "      <th>50%</th>\n",
       "      <td>0.700000</td>\n",
       "      <td>57.000000</td>\n",
       "      <td>5.700000</td>\n",
       "      <td>5.710000</td>\n",
       "      <td>3.530000</td>\n",
       "      <td>1200.500000</td>\n",
       "    </tr>\n",
       "    <tr>\n",
       "      <th>75%</th>\n",
       "      <td>1.040000</td>\n",
       "      <td>59.000000</td>\n",
       "      <td>6.540000</td>\n",
       "      <td>6.540000</td>\n",
       "      <td>4.040000</td>\n",
       "      <td>2662.125000</td>\n",
       "    </tr>\n",
       "    <tr>\n",
       "      <th>max</th>\n",
       "      <td>5.010000</td>\n",
       "      <td>95.000000</td>\n",
       "      <td>10.740000</td>\n",
       "      <td>58.900000</td>\n",
       "      <td>31.800000</td>\n",
       "      <td>9411.500000</td>\n",
       "    </tr>\n",
       "  </tbody>\n",
       "</table>\n",
       "</div>"
      ],
      "text/plain": [
       "              carat         table             x             y             z  \\\n",
       "count  53841.000000  53877.000000  53940.000000  53940.000000  53940.000000   \n",
       "mean       0.798120     57.457719      5.731157      5.734526      3.539635   \n",
       "std        0.474428      2.235742      1.121761      1.142135      0.703869   \n",
       "min        0.200000     43.000000      0.000000      0.000000      0.000000   \n",
       "25%        0.400000     56.000000      4.710000      4.720000      2.910000   \n",
       "50%        0.700000     57.000000      5.700000      5.710000      3.530000   \n",
       "75%        1.040000     59.000000      6.540000      6.540000      4.040000   \n",
       "max        5.010000     95.000000     10.740000     58.900000     31.800000   \n",
       "\n",
       "          price_new  \n",
       "count  53940.000000  \n",
       "mean    1966.399861  \n",
       "std     1994.719869  \n",
       "min      163.000000  \n",
       "25%      475.000000  \n",
       "50%     1200.500000  \n",
       "75%     2662.125000  \n",
       "max     9411.500000  "
      ]
     },
     "execution_count": 8,
     "metadata": {},
     "output_type": "execute_result"
    }
   ],
   "source": [
    "df.describe()"
   ]
  },
  {
   "cell_type": "code",
   "execution_count": 9,
   "id": "b6eabf57-1b8c-43ee-ac8d-e257801c61b1",
   "metadata": {},
   "outputs": [
    {
     "data": {
      "text/plain": [
       "Int64Index([11182, 11963, 15951, 24520, 26243, 27429, 49556, 49557], dtype='int64')"
      ]
     },
     "execution_count": 9,
     "metadata": {},
     "output_type": "execute_result"
    }
   ],
   "source": [
    "df[(df['x']==0) | (df['y']==0) | (df['z']==0)].index"
   ]
  },
  {
   "cell_type": "code",
   "execution_count": 10,
   "id": "2355c999-21c1-4413-92a2-7b9593e3b0ab",
   "metadata": {},
   "outputs": [],
   "source": [
    "df2 = df.drop([11182, 11963, 15951, 24520, 26243, 27429, 49556, 49557])"
   ]
  },
  {
   "cell_type": "code",
   "execution_count": 11,
   "id": "3b48f50b-391b-45fa-bfc7-414cf8022ea9",
   "metadata": {},
   "outputs": [
    {
     "data": {
      "image/png": "[encoded data removed]",
      "text/plain": [
       "<Figure size 640x480 with 1 Axes>"
      ]
     },
     "metadata": {},
     "output_type": "display_data"
    }
   ],
   "source": [
    "plt.scatter(df2['y'], df2['z'])\n",
    "plt.show()\n"
   ]
  },
  {
   "cell_type": "code",
   "execution_count": 12,
   "id": "7619ccb7-9daa-4853-ab44-d4c7bfe73013",
   "metadata": {},
   "outputs": [
    {
     "data": {
      "image/png": "[encoded data removed]",
      "text/plain": [
       "<Figure size 640x480 with 1 Axes>"
      ]
     },
     "metadata": {},
     "output_type": "display_data"
    }
   ],
   "source": [
    "plt.boxplot(df2['z'])\n",
    "plt.show()"
   ]
  },
  {
   "cell_type": "code",
   "execution_count": 13,
   "id": "e735727a-2a42-40ed-af41-0dd601a40785",
   "metadata": {},
   "outputs": [
    {
     "data": {
      "text/plain": [
       "Int64Index([24067, 48410, 49189], dtype='int64')"
      ]
     },
     "execution_count": 13,
     "metadata": {},
     "output_type": "execute_result"
    }
   ],
   "source": [
    "df2[(df2['y'] > 15) | (df2['z'] > 15)].index"
   ]
  },
  {
   "cell_type": "code",
   "execution_count": 14,
   "id": "58ea3345-65eb-4048-b06c-b66b21534654",
   "metadata": {},
   "outputs": [],
   "source": [
    "df3 = df2.drop([24067, 48410, 49189])"
   ]
  },
  {
   "cell_type": "code",
   "execution_count": 15,
   "id": "9821ed38-20a5-4b12-8841-e2ab36e6fb38",
   "metadata": {},
   "outputs": [
    {
     "data": {
      "text/plain": [
       "carat        99\n",
       "cut           0\n",
       "color        56\n",
       "clarity       0\n",
       "table        63\n",
       "x             0\n",
       "y             0\n",
       "z             0\n",
       "price_new     0\n",
       "dtype: int64"
      ]
     },
     "execution_count": 15,
     "metadata": {},
     "output_type": "execute_result"
    }
   ],
   "source": [
    "df3.isna().sum()"
   ]
  },
  {
   "cell_type": "code",
   "execution_count": 16,
   "id": "7d347e30-2589-435b-8b7b-fae7bc4364bb",
   "metadata": {},
   "outputs": [],
   "source": [
    "df3['carat'].fillna(df3['carat'].median(), inplace=True)\n",
    "df3['table'].fillna(df3['table'].median(), inplace=True)\n",
    "df3['color'].fillna(\"G\", inplace=True)"
   ]
  },
  {
   "cell_type": "code",
   "execution_count": 17,
   "id": "9cdf5dc6-ab51-4886-a349-09f72c50834a",
   "metadata": {},
   "outputs": [
    {
     "data": {
      "text/plain": [
       "carat        0\n",
       "cut          0\n",
       "color        0\n",
       "clarity      0\n",
       "table        0\n",
       "x            0\n",
       "y            0\n",
       "z            0\n",
       "price_new    0\n",
       "dtype: int64"
      ]
     },
     "execution_count": 17,
     "metadata": {},
     "output_type": "execute_result"
    }
   ],
   "source": [
    "df3.isna().sum()"
   ]
  },
  {
   "cell_type": "code",
   "execution_count": 18,
   "id": "b857918f-4062-459f-81c6-12cf2d31beaf",
   "metadata": {},
   "outputs": [
    {
     "data": {
      "text/plain": [
       "Index(['carat', 'cut', 'color', 'clarity', 'table', 'x', 'y', 'z',\n",
       "       'price_new'],\n",
       "      dtype='object')"
      ]
     },
     "execution_count": 18,
     "metadata": {},
     "output_type": "execute_result"
    }
   ],
   "source": [
    "df3.columns"
   ]
  },
  {
   "cell_type": "code",
   "execution_count": 19,
   "id": "017aea4f-8ba6-4612-93b2-3992e3c5a89b",
   "metadata": {},
   "outputs": [],
   "source": [
    "y = df3['price_new']\n",
    "x = df3.drop(\"price_new\", axis=1)"
   ]
  },
  {
   "cell_type": "code",
   "execution_count": 20,
   "id": "5fee4924-aa04-4dec-8aa4-827bf92a9b14",
   "metadata": {},
   "outputs": [],
   "source": [
    "x = pd.get_dummies(x)"
   ]
  },
  {
   "cell_type": "code",
   "execution_count": 21,
   "id": "2c88be44-d128-4e8e-b66e-e07767247fb3",
   "metadata": {},
   "outputs": [],
   "source": [
    "from sklearn.preprocessing import MinMaxScaler\n",
    "from sklearn.model_selection import train_test_split"
   ]
  },
  {
   "cell_type": "code",
   "execution_count": 22,
   "id": "befb1652-010e-4e9f-b1d8-17387be0d4d7",
   "metadata": {},
   "outputs": [],
   "source": [
    "mn = MinMaxScaler()\n",
    "x = mn.fit_transform(x)"
   ]
  },
  {
   "cell_type": "code",
   "execution_count": 23,
   "id": "0526f4a1-a4d1-4512-85c3-11c57ce08f1a",
   "metadata": {},
   "outputs": [],
   "source": [
    "x_train, x_test, y_train , y_test = train_test_split(x, y, test_size=0.2, random_state= 134)"
   ]
  },
  {
   "cell_type": "code",
   "execution_count": 24,
   "id": "75a4688b-193c-422d-88e9-2ef1e21d0074",
   "metadata": {},
   "outputs": [],
   "source": [
    "from tensorflow.keras.models import Sequential\n",
    "from tensorflow.keras.layers import Dense, Dropout"
   ]
  },
  {
   "cell_type": "code",
   "execution_count": 25,
   "id": "15a0a14a-cecb-43fc-b7da-0b4be1f9516d",
   "metadata": {},
   "outputs": [
    {
     "data": {
      "text/plain": [
       "(53929, 25)"
      ]
     },
     "execution_count": 25,
     "metadata": {},
     "output_type": "execute_result"
    }
   ],
   "source": [
    "x.shape"
   ]
  },
  {
   "cell_type": "code",
   "execution_count": 26,
   "id": "fdf5d703-79d0-4146-ae22-639e94d87e3f",
   "metadata": {},
   "outputs": [
    {
     "name": "stdout",
     "output_type": "stream",
     "text": [
      "Model: \"sequential\"\n",
      "_________________________________________________________________\n",
      " Layer (type)                Output Shape              Param #   \n",
      "=================================================================\n",
      " dense (Dense)               (None, 32)                832       \n",
      "                                                                 \n",
      " dense_1 (Dense)             (None, 16)                528       \n",
      "                                                                 \n",
      " dense_2 (Dense)             (None, 8)                 136       \n",
      "                                                                 \n",
      " dense_3 (Dense)             (None, 1)                 9         \n",
      "                                                                 \n",
      "=================================================================\n",
      "Total params: 1,505\n",
      "Trainable params: 1,505\n",
      "Non-trainable params: 0\n",
      "_________________________________________________________________\n"
     ]
    }
   ],
   "source": [
    "model1 = Sequential()\n",
    "model1.add(Dense(32, activation = \"relu\", input_shape = (25,)))\n",
    "model1.add(Dense(16, activation = \"relu\"))\n",
    "model1.add(Dense(8, activation = \"relu\"))\n",
    "model1.add(Dense(1, activation = None))\n",
    "model1.summary()"
   ]
  },
  {
   "cell_type": "code",
   "execution_count": 27,
   "id": "82dce9bb-8437-42ec-a2b3-f3d752ced149",
   "metadata": {},
   "outputs": [
    {
     "name": "stdout",
     "output_type": "stream",
     "text": [
      "Requirement already satisfied: tensorflow in c:\\users\\anagh\\anaconda3\\lib\\site-packages (2.12.0)\n",
      "Requirement already satisfied: tensorflow-intel==2.12.0 in c:\\users\\anagh\\anaconda3\\lib\\site-packages (from tensorflow) (2.12.0)\n",
      "Requirement already satisfied: h5py>=2.9.0 in c:\\users\\anagh\\anaconda3\\lib\\site-packages (from tensorflow-intel==2.12.0->tensorflow) (3.7.0)\n",
      "Requirement already satisfied: tensorflow-estimator<2.13,>=2.12.0 in c:\\users\\anagh\\anaconda3\\lib\\site-packages (from tensorflow-intel==2.12.0->tensorflow) (2.12.0)\n",
      "Requirement already satisfied: astunparse>=1.6.0 in c:\\users\\anagh\\anaconda3\\lib\\site-packages (from tensorflow-intel==2.12.0->tensorflow) (1.6.3)\n",
      "Requirement already satisfied: flatbuffers>=2.0 in c:\\users\\anagh\\anaconda3\\lib\\site-packages (from tensorflow-intel==2.12.0->tensorflow) (23.3.3)\n",
      "Requirement already satisfied: keras<2.13,>=2.12.0 in c:\\users\\anagh\\anaconda3\\lib\\site-packages (from tensorflow-intel==2.12.0->tensorflow) (2.12.0)\n",
      "Requirement already satisfied: tensorflow-io-gcs-filesystem>=0.23.1 in c:\\users\\anagh\\anaconda3\\lib\\site-packages (from tensorflow-intel==2.12.0->tensorflow) (0.31.0)\n",
      "Requirement already satisfied: six>=1.12.0 in c:\\users\\anagh\\anaconda3\\lib\\site-packages (from tensorflow-intel==2.12.0->tensorflow) (1.16.0)\n",
      "Requirement already satisfied: packaging in c:\\users\\anagh\\anaconda3\\lib\\site-packages (from tensorflow-intel==2.12.0->tensorflow) (22.0)\n",
      "Requirement already satisfied: termcolor>=1.1.0 in c:\\users\\anagh\\anaconda3\\lib\\site-packages (from tensorflow-intel==2.12.0->tensorflow) (2.2.0)\n",
      "Requirement already satisfied: libclang>=13.0.0 in c:\\users\\anagh\\anaconda3\\lib\\site-packages (from tensorflow-intel==2.12.0->tensorflow) (16.0.0)\n",
      "Requirement already satisfied: protobuf!=4.21.0,!=4.21.1,!=4.21.2,!=4.21.3,!=4.21.4,!=4.21.5,<5.0.0dev,>=3.20.3 in c:\\users\\anagh\\anaconda3\\lib\\site-packages (from tensorflow-intel==2.12.0->tensorflow) (4.22.1)\n",
      "Requirement already satisfied: gast<=0.4.0,>=0.2.1 in c:\\users\\anagh\\anaconda3\\lib\\site-packages (from tensorflow-intel==2.12.0->tensorflow) (0.4.0)\n",
      "Requirement already satisfied: google-pasta>=0.1.1 in c:\\users\\anagh\\anaconda3\\lib\\site-packages (from tensorflow-intel==2.12.0->tensorflow) (0.2.0)\n",
      "Requirement already satisfied: setuptools in c:\\users\\anagh\\anaconda3\\lib\\site-packages (from tensorflow-intel==2.12.0->tensorflow) (65.6.3)\n",
      "Requirement already satisfied: numpy<1.24,>=1.22 in c:\\users\\anagh\\anaconda3\\lib\\site-packages (from tensorflow-intel==2.12.0->tensorflow) (1.23.5)\n",
      "Requirement already satisfied: tensorboard<2.13,>=2.12 in c:\\users\\anagh\\anaconda3\\lib\\site-packages (from tensorflow-intel==2.12.0->tensorflow) (2.12.0)\n",
      "Requirement already satisfied: opt-einsum>=2.3.2 in c:\\users\\anagh\\anaconda3\\lib\\site-packages (from tensorflow-intel==2.12.0->tensorflow) (3.3.0)\n",
      "Requirement already satisfied: grpcio<2.0,>=1.24.3 in c:\\users\\anagh\\anaconda3\\lib\\site-packages (from tensorflow-intel==2.12.0->tensorflow) (1.53.0)\n",
      "Requirement already satisfied: typing-extensions>=3.6.6 in c:\\users\\anagh\\anaconda3\\lib\\site-packages (from tensorflow-intel==2.12.0->tensorflow) (4.4.0)\n",
      "Requirement already satisfied: wrapt<1.15,>=1.11.0 in c:\\users\\anagh\\anaconda3\\lib\\site-packages (from tensorflow-intel==2.12.0->tensorflow) (1.14.1)\n",
      "Requirement already satisfied: absl-py>=1.0.0 in c:\\users\\anagh\\anaconda3\\lib\\site-packages (from tensorflow-intel==2.12.0->tensorflow) (1.4.0)\n",
      "Requirement already satisfied: jax>=0.3.15 in c:\\users\\anagh\\anaconda3\\lib\\site-packages (from tensorflow-intel==2.12.0->tensorflow) (0.4.8)\n",
      "Requirement already satisfied: wheel<1.0,>=0.23.0 in c:\\users\\anagh\\anaconda3\\lib\\site-packages (from astunparse>=1.6.0->tensorflow-intel==2.12.0->tensorflow) (0.38.4)\n",
      "Requirement already satisfied: ml-dtypes>=0.0.3 in c:\\users\\anagh\\anaconda3\\lib\\site-packages (from jax>=0.3.15->tensorflow-intel==2.12.0->tensorflow) (0.0.4)\n",
      "Requirement already satisfied: scipy>=1.7 in c:\\users\\anagh\\anaconda3\\lib\\site-packages (from jax>=0.3.15->tensorflow-intel==2.12.0->tensorflow) (1.10.0)\n",
      "Requirement already satisfied: google-auth<3,>=1.6.3 in c:\\users\\anagh\\anaconda3\\lib\\site-packages (from tensorboard<2.13,>=2.12->tensorflow-intel==2.12.0->tensorflow) (2.17.1)\n",
      "Requirement already satisfied: markdown>=2.6.8 in c:\\users\\anagh\\anaconda3\\lib\\site-packages (from tensorboard<2.13,>=2.12->tensorflow-intel==2.12.0->tensorflow) (3.4.1)\n",
      "Requirement already satisfied: tensorboard-plugin-wit>=1.6.0 in c:\\users\\anagh\\anaconda3\\lib\\site-packages (from tensorboard<2.13,>=2.12->tensorflow-intel==2.12.0->tensorflow) (1.8.1)\n",
      "Requirement already satisfied: tensorboard-data-server<0.8.0,>=0.7.0 in c:\\users\\anagh\\anaconda3\\lib\\site-packages (from tensorboard<2.13,>=2.12->tensorflow-intel==2.12.0->tensorflow) (0.7.0)\n",
      "Requirement already satisfied: werkzeug>=1.0.1 in c:\\users\\anagh\\anaconda3\\lib\\site-packages (from tensorboard<2.13,>=2.12->tensorflow-intel==2.12.0->tensorflow) (2.2.2)\n",
      "Requirement already satisfied: requests<3,>=2.21.0 in c:\\users\\anagh\\anaconda3\\lib\\site-packages (from tensorboard<2.13,>=2.12->tensorflow-intel==2.12.0->tensorflow) (2.28.1)\n",
      "Requirement already satisfied: google-auth-oauthlib<0.5,>=0.4.1 in c:\\users\\anagh\\anaconda3\\lib\\site-packages (from tensorboard<2.13,>=2.12->tensorflow-intel==2.12.0->tensorflow) (0.4.6)\n",
      "Requirement already satisfied: rsa<5,>=3.1.4 in c:\\users\\anagh\\anaconda3\\lib\\site-packages (from google-auth<3,>=1.6.3->tensorboard<2.13,>=2.12->tensorflow-intel==2.12.0->tensorflow) (4.9)\n",
      "Requirement already satisfied: pyasn1-modules>=0.2.1 in c:\\users\\anagh\\anaconda3\\lib\\site-packages (from google-auth<3,>=1.6.3->tensorboard<2.13,>=2.12->tensorflow-intel==2.12.0->tensorflow) (0.2.8)\n",
      "Requirement already satisfied: cachetools<6.0,>=2.0.0 in c:\\users\\anagh\\anaconda3\\lib\\site-packages (from google-auth<3,>=1.6.3->tensorboard<2.13,>=2.12->tensorflow-intel==2.12.0->tensorflow) (5.3.0)\n",
      "Requirement already satisfied: requests-oauthlib>=0.7.0 in c:\\users\\anagh\\anaconda3\\lib\\site-packages (from google-auth-oauthlib<0.5,>=0.4.1->tensorboard<2.13,>=2.12->tensorflow-intel==2.12.0->tensorflow) (1.3.1)\n",
      "Requirement already satisfied: certifi>=2017.4.17 in c:\\users\\anagh\\anaconda3\\lib\\site-packages (from requests<3,>=2.21.0->tensorboard<2.13,>=2.12->tensorflow-intel==2.12.0->tensorflow) (2022.12.7)\n",
      "Requirement already satisfied: idna<4,>=2.5 in c:\\users\\anagh\\anaconda3\\lib\\site-packages (from requests<3,>=2.21.0->tensorboard<2.13,>=2.12->tensorflow-intel==2.12.0->tensorflow) (3.4)\n",
      "Requirement already satisfied: charset-normalizer<3,>=2 in c:\\users\\anagh\\anaconda3\\lib\\site-packages (from requests<3,>=2.21.0->tensorboard<2.13,>=2.12->tensorflow-intel==2.12.0->tensorflow) (2.0.4)\n",
      "Requirement already satisfied: urllib3<1.27,>=1.21.1 in c:\\users\\anagh\\anaconda3\\lib\\site-packages (from requests<3,>=2.21.0->tensorboard<2.13,>=2.12->tensorflow-intel==2.12.0->tensorflow) (1.26.14)\n",
      "Requirement already satisfied: MarkupSafe>=2.1.1 in c:\\users\\anagh\\anaconda3\\lib\\site-packages (from werkzeug>=1.0.1->tensorboard<2.13,>=2.12->tensorflow-intel==2.12.0->tensorflow) (2.1.1)\n",
      "Requirement already satisfied: pyasn1<0.5.0,>=0.4.6 in c:\\users\\anagh\\anaconda3\\lib\\site-packages (from pyasn1-modules>=0.2.1->google-auth<3,>=1.6.3->tensorboard<2.13,>=2.12->tensorflow-intel==2.12.0->tensorflow) (0.4.8)\n",
      "Requirement already satisfied: oauthlib>=3.0.0 in c:\\users\\anagh\\anaconda3\\lib\\site-packages (from requests-oauthlib>=0.7.0->google-auth-oauthlib<0.5,>=0.4.1->tensorboard<2.13,>=2.12->tensorflow-intel==2.12.0->tensorflow) (3.2.2)\n",
      "Note: you may need to restart the kernel to use updated packages.\n"
     ]
    }
   ],
   "source": [
    "pip install tensorflow"
   ]
  },
  {
   "cell_type": "code",
   "execution_count": 28,
   "id": "ccec1779-de8b-472e-958f-0fd50ec599bc",
   "metadata": {},
   "outputs": [],
   "source": [
    "model1.compile(optimizer = \"sgd\", loss = \"mean_squared_error\", metrics = [\"mean_squared_error\"])"
   ]
  },
  {
   "cell_type": "code",
   "execution_count": 29,
   "id": "e99804f3-0f63-4505-b105-72295dec13d2",
   "metadata": {},
   "outputs": [
    {
     "name": "stdout",
     "output_type": "stream",
     "text": [
      "Epoch 1/10\n",
      "338/338 [==============================] - 1s 2ms/step - loss: 5005143.0000 - mean_squared_error: 5005143.0000\n",
      "Epoch 2/10\n",
      "338/338 [==============================] - 1s 2ms/step - loss: 3998185.5000 - mean_squared_error: 3998185.5000\n",
      "Epoch 3/10\n",
      "338/338 [==============================] - 1s 2ms/step - loss: 3998087.2500 - mean_squared_error: 3998087.2500\n",
      "Epoch 4/10\n",
      "338/338 [==============================] - 1s 2ms/step - loss: 3998140.0000 - mean_squared_error: 3998140.0000\n",
      "Epoch 5/10\n",
      "338/338 [==============================] - 1s 2ms/step - loss: 3997973.2500 - mean_squared_error: 3997973.2500\n",
      "Epoch 6/10\n",
      "338/338 [==============================] - 1s 2ms/step - loss: 3998170.7500 - mean_squared_error: 3998170.7500\n",
      "Epoch 7/10\n",
      "338/338 [==============================] - 1s 2ms/step - loss: 3998290.7500 - mean_squared_error: 3998290.7500\n",
      "Epoch 8/10\n",
      "338/338 [==============================] - 1s 2ms/step - loss: 3998136.5000 - mean_squared_error: 3998136.5000\n",
      "Epoch 9/10\n",
      "338/338 [==============================] - 1s 2ms/step - loss: 3998138.5000 - mean_squared_error: 3998138.5000\n",
      "Epoch 10/10\n",
      "338/338 [==============================] - 1s 2ms/step - loss: 3998210.5000 - mean_squared_error: 3998210.5000\n"
     ]
    },
    {
     "data": {
      "text/plain": [
       "<keras.callbacks.History at 0x2681ccda3b0>"
      ]
     },
     "execution_count": 29,
     "metadata": {},
     "output_type": "execute_result"
    }
   ],
   "source": [
    "model1.fit(x_train, y_train, epochs = 10, batch_size = 128)"
   ]
  },
  {
   "cell_type": "code",
   "execution_count": 30,
   "id": "e0736f48-aa3d-44dc-bd42-067c4b2c588e",
   "metadata": {},
   "outputs": [
    {
     "name": "stdout",
     "output_type": "stream",
     "text": [
      "338/338 [==============================] - 1s 2ms/step - loss: 3899746.2500 - mean_squared_error: 3899746.2500\n"
     ]
    },
    {
     "data": {
      "text/plain": [
       "[3899746.25, 3899746.25]"
      ]
     },
     "execution_count": 30,
     "metadata": {},
     "output_type": "execute_result"
    }
   ],
   "source": [
    "model1.evaluate(x_test, y_test)"
   ]
  },
  {
   "cell_type": "code",
   "execution_count": null,
   "id": "ab6bfc6b-c429-4b17-8fc5-439d8da176e8",
   "metadata": {},
   "outputs": [],
   "source": [
    "#Model2"
   ]
  },
  {
   "cell_type": "code",
   "execution_count": 31,
   "id": "d4e4f9cc-5da0-45cc-852d-36ffeec4fa20",
   "metadata": {},
   "outputs": [],
   "source": [
    "model2 = Sequential()\n",
    "model2.add(Dense(64, input_shape = (25,), activation = \"relu\"))\n",
    "model2.add(Dense(64, activation = \"relu\"))\n",
    "model2.add(Dense(64, activation = \"relu\"))\n",
    "model2.add(Dense(64, activation = \"relu\"))\n",
    "model2.add(Dense(64, activation = \"relu\"))\n",
    "model2.add(Dense(64, activation = \"relu\"))\n",
    "model2.add(Dense(64, activation = \"relu\"))\n",
    "model2.add(Dense(1, activation = None))"
   ]
  },
  {
   "cell_type": "code",
   "execution_count": 32,
   "id": "da12bf99-9397-4ca8-90ac-7af32f562d35",
   "metadata": {},
   "outputs": [
    {
     "name": "stdout",
     "output_type": "stream",
     "text": [
      "Epoch 1/30\n",
      "338/338 [==============================] - 2s 3ms/step - loss: nan - mean_squared_error: nan\n",
      "Epoch 2/30\n",
      "338/338 [==============================] - 1s 3ms/step - loss: nan - mean_squared_error: nan\n",
      "Epoch 3/30\n",
      "338/338 [==============================] - 1s 3ms/step - loss: nan - mean_squared_error: nan\n",
      "Epoch 4/30\n",
      "338/338 [==============================] - 1s 3ms/step - loss: nan - mean_squared_error: nan\n",
      "Epoch 5/30\n",
      "338/338 [==============================] - 1s 3ms/step - loss: nan - mean_squared_error: nan\n",
      "Epoch 6/30\n",
      "338/338 [==============================] - 1s 3ms/step - loss: nan - mean_squared_error: nan\n",
      "Epoch 7/30\n",
      "338/338 [==============================] - 1s 2ms/step - loss: nan - mean_squared_error: nan\n",
      "Epoch 8/30\n",
      "338/338 [==============================] - 1s 3ms/step - loss: nan - mean_squared_error: nan\n",
      "Epoch 9/30\n",
      "338/338 [==============================] - 1s 3ms/step - loss: nan - mean_squared_error: nan\n",
      "Epoch 10/30\n",
      "338/338 [==============================] - 1s 2ms/step - loss: nan - mean_squared_error: nan\n",
      "Epoch 11/30\n",
      "338/338 [==============================] - 1s 2ms/step - loss: nan - mean_squared_error: nan\n",
      "Epoch 12/30\n",
      "338/338 [==============================] - 1s 2ms/step - loss: nan - mean_squared_error: nan\n",
      "Epoch 13/30\n",
      "338/338 [==============================] - 1s 2ms/step - loss: nan - mean_squared_error: nan\n",
      "Epoch 14/30\n",
      "338/338 [==============================] - 1s 2ms/step - loss: nan - mean_squared_error: nan\n",
      "Epoch 15/30\n",
      "338/338 [==============================] - 1s 3ms/step - loss: nan - mean_squared_error: nan\n",
      "Epoch 16/30\n",
      "338/338 [==============================] - 1s 3ms/step - loss: nan - mean_squared_error: nan\n",
      "Epoch 17/30\n",
      "338/338 [==============================] - 1s 3ms/step - loss: nan - mean_squared_error: nan\n",
      "Epoch 18/30\n",
      "338/338 [==============================] - 1s 3ms/step - loss: nan - mean_squared_error: nan\n",
      "Epoch 19/30\n",
      "338/338 [==============================] - 1s 2ms/step - loss: nan - mean_squared_error: nan\n",
      "Epoch 20/30\n",
      "338/338 [==============================] - 1s 2ms/step - loss: nan - mean_squared_error: nan\n",
      "Epoch 21/30\n",
      "338/338 [==============================] - 1s 2ms/step - loss: nan - mean_squared_error: nan\n",
      "Epoch 22/30\n",
      "338/338 [==============================] - 1s 2ms/step - loss: nan - mean_squared_error: nan\n",
      "Epoch 23/30\n",
      "338/338 [==============================] - 1s 2ms/step - loss: nan - mean_squared_error: nan\n",
      "Epoch 24/30\n",
      "338/338 [==============================] - 1s 2ms/step - loss: nan - mean_squared_error: nan\n",
      "Epoch 25/30\n",
      "338/338 [==============================] - 1s 2ms/step - loss: nan - mean_squared_error: nan\n",
      "Epoch 26/30\n",
      "338/338 [==============================] - 1s 2ms/step - loss: nan - mean_squared_error: nan\n",
      "Epoch 27/30\n",
      "338/338 [==============================] - 1s 3ms/step - loss: nan - mean_squared_error: nan\n",
      "Epoch 28/30\n",
      "338/338 [==============================] - 1s 2ms/step - loss: nan - mean_squared_error: nan\n",
      "Epoch 29/30\n",
      "338/338 [==============================] - 1s 2ms/step - loss: nan - mean_squared_error: nan\n",
      "Epoch 30/30\n",
      "338/338 [==============================] - 1s 2ms/step - loss: nan - mean_squared_error: nan\n"
     ]
    },
    {
     "data": {
      "text/plain": [
       "<keras.callbacks.History at 0x268287d04c0>"
      ]
     },
     "execution_count": 32,
     "metadata": {},
     "output_type": "execute_result"
    }
   ],
   "source": [
    "model2.compile(optimizer = \"sgd\", loss = \"mean_squared_error\", metrics = [\"mean_squared_error\"])\n",
    "model2.fit(x_train, y_train, epochs = 30, batch_size = 128)"
   ]
  },
  {
   "cell_type": "code",
   "execution_count": null,
   "id": "11fff542-81f0-4aa4-87ce-5c6f05000e46",
   "metadata": {},
   "outputs": [],
   "source": [
    "#Model3"
   ]
  },
  {
   "cell_type": "code",
   "execution_count": 33,
   "id": "d856507a-256a-47ec-a62b-2679cf5d7053",
   "metadata": {},
   "outputs": [],
   "source": [
    "model3 = Sequential()\n",
    "model3.add(Dense(128, input_shape = (25,), activation = \"relu\"))\n",
    "model3.add(Dense(128, activation = \"relu\"))\n",
    "model3.add(Dropout(0.15))\n",
    "model3.add(Dense(128, activation = \"relu\"))\n",
    "model3.add(Dropout(0.15))\n",
    "model3.add(Dense(64, activation = \"relu\"))\n",
    "model3.add(Dropout(0.15))\n",
    "model3.add(Dense(64, activation = \"relu\"))\n",
    "model3.add(Dropout(0.15))\n",
    "model3.add(Dense(32, activation = \"relu\"))\n",
    "model3.add(Dense(16, activation = \"relu\"))\n",
    "model3.add(Dense(1, activation = None))"
   ]
  },
  {
   "cell_type": "code",
   "execution_count": 34,
   "id": "07584c7d-1d61-4beb-824a-5801dd0b5960",
   "metadata": {},
   "outputs": [
    {
     "name": "stdout",
     "output_type": "stream",
     "text": [
      "Epoch 1/30\n",
      "338/338 [==============================] - 4s 6ms/step - loss: 2178217.5000 - mean_squared_error: 2178217.5000\n",
      "Epoch 2/30\n",
      "338/338 [==============================] - 2s 6ms/step - loss: 217297.8125 - mean_squared_error: 217297.8125\n",
      "Epoch 3/30\n",
      "338/338 [==============================] - 2s 6ms/step - loss: 204055.4375 - mean_squared_error: 204055.4375\n",
      "Epoch 4/30\n",
      "338/338 [==============================] - 2s 6ms/step - loss: 202489.2031 - mean_squared_error: 202489.2031\n",
      "Epoch 5/30\n",
      "338/338 [==============================] - 2s 6ms/step - loss: 189821.5781 - mean_squared_error: 189821.5781\n",
      "Epoch 6/30\n",
      "338/338 [==============================] - 2s 6ms/step - loss: 192247.7656 - mean_squared_error: 192247.7656\n",
      "Epoch 7/30\n",
      "338/338 [==============================] - 2s 6ms/step - loss: 184373.2031 - mean_squared_error: 184373.2031\n",
      "Epoch 8/30\n",
      "338/338 [==============================] - 2s 5ms/step - loss: 180244.3750 - mean_squared_error: 180244.3750\n",
      "Epoch 9/30\n",
      "338/338 [==============================] - 2s 5ms/step - loss: 183415.4062 - mean_squared_error: 183415.4062\n",
      "Epoch 10/30\n",
      "338/338 [==============================] - 2s 6ms/step - loss: 182534.6094 - mean_squared_error: 182534.6094\n",
      "Epoch 11/30\n",
      "338/338 [==============================] - 2s 6ms/step - loss: 180135.2812 - mean_squared_error: 180135.2812\n",
      "Epoch 12/30\n",
      "338/338 [==============================] - 2s 6ms/step - loss: 175690.9531 - mean_squared_error: 175690.9531\n",
      "Epoch 13/30\n",
      "338/338 [==============================] - 2s 6ms/step - loss: 175826.5469 - mean_squared_error: 175826.5469\n",
      "Epoch 14/30\n",
      "338/338 [==============================] - 2s 6ms/step - loss: 169049.2969 - mean_squared_error: 169049.2969\n",
      "Epoch 15/30\n",
      "338/338 [==============================] - 2s 6ms/step - loss: 173953.8594 - mean_squared_error: 173953.8594\n",
      "Epoch 16/30\n",
      "338/338 [==============================] - 2s 5ms/step - loss: 166053.1562 - mean_squared_error: 166053.1562\n",
      "Epoch 17/30\n",
      "338/338 [==============================] - 2s 5ms/step - loss: 171215.7344 - mean_squared_error: 171215.7344\n",
      "Epoch 18/30\n",
      "338/338 [==============================] - 2s 5ms/step - loss: 164446.5781 - mean_squared_error: 164446.5781\n",
      "Epoch 19/30\n",
      "338/338 [==============================] - 2s 6ms/step - loss: 165903.2812 - mean_squared_error: 165903.2812\n",
      "Epoch 20/30\n",
      "338/338 [==============================] - 2s 6ms/step - loss: 165429.1406 - mean_squared_error: 165429.1406\n",
      "Epoch 21/30\n",
      "338/338 [==============================] - 2s 6ms/step - loss: 166911.5156 - mean_squared_error: 166911.5156\n",
      "Epoch 22/30\n",
      "338/338 [==============================] - 2s 6ms/step - loss: 168110.7969 - mean_squared_error: 168110.7969\n",
      "Epoch 23/30\n",
      "338/338 [==============================] - 2s 6ms/step - loss: 161544.8438 - mean_squared_error: 161544.8438\n",
      "Epoch 24/30\n",
      "338/338 [==============================] - 2s 6ms/step - loss: 157727.7031 - mean_squared_error: 157727.7031\n",
      "Epoch 25/30\n",
      "338/338 [==============================] - 2s 5ms/step - loss: 163841.4219 - mean_squared_error: 163841.4219\n",
      "Epoch 26/30\n",
      "338/338 [==============================] - 2s 5ms/step - loss: 153994.9688 - mean_squared_error: 153994.9688\n",
      "Epoch 27/30\n",
      "338/338 [==============================] - 2s 6ms/step - loss: 155126.2031 - mean_squared_error: 155126.2031\n",
      "Epoch 28/30\n",
      "338/338 [==============================] - 2s 6ms/step - loss: 152418.2969 - mean_squared_error: 152418.2969\n",
      "Epoch 29/30\n",
      "338/338 [==============================] - 2s 6ms/step - loss: 154369.5156 - mean_squared_error: 154369.5156\n",
      "Epoch 30/30\n",
      "338/338 [==============================] - 2s 6ms/step - loss: 157671.2969 - mean_squared_error: 157671.2969\n"
     ]
    },
    {
     "data": {
      "text/plain": [
       "<keras.callbacks.History at 0x2682871e290>"
      ]
     },
     "execution_count": 34,
     "metadata": {},
     "output_type": "execute_result"
    }
   ],
   "source": [
    "model3.compile(optimizer = \"adam\", loss = \"mean_squared_error\", metrics = [\"mean_squared_error\"])\n",
    "model3.fit(x_train, y_train, epochs = 30, batch_size = 128)"
   ]
  },
  {
   "cell_type": "code",
   "execution_count": 35,
   "id": "0c3e2ab4-d6a0-4b77-972e-f94447bf6d19",
   "metadata": {},
   "outputs": [
    {
     "name": "stdout",
     "output_type": "stream",
     "text": [
      "338/338 [==============================] - 1s 2ms/step - loss: 177227.2969 - mean_squared_error: 177227.2969\n"
     ]
    },
    {
     "data": {
      "text/plain": [
       "[177227.296875, 177227.296875]"
      ]
     },
     "execution_count": 35,
     "metadata": {},
     "output_type": "execute_result"
    }
   ],
   "source": [
    "model3.evaluate(x_test, y_test)"
   ]
  },
  {
   "cell_type": "code",
   "execution_count": 36,
   "id": "dd799d7a-c33d-4c21-a20b-abbe61969b7e",
   "metadata": {},
   "outputs": [],
   "source": [
    "from sklearn.linear_model import LinearRegression\n",
    "from sklearn.metrics import mean_squared_error"
   ]
  },
  {
   "cell_type": "code",
   "execution_count": 37,
   "id": "59239fe7-5d82-49a7-b270-94d9d6195a3a",
   "metadata": {},
   "outputs": [
    {
     "data": {
      "text/html": [
       "<style>#sk-container-id-1 {color: black;background-color: white;}#sk-container-id-1 pre{padding: 0;}#sk-container-id-1 div.sk-toggleable {background-color: white;}#sk-container-id-1 label.sk-toggleable__label {cursor: pointer;display: block;width: 100%;margin-bottom: 0;padding: 0.3em;box-sizing: border-box;text-align: center;}#sk-container-id-1 label.sk-toggleable__label-arrow:before {content: \"▸\";float: left;margin-right: 0.25em;color: #696969;}#sk-container-id-1 label.sk-toggleable__label-arrow:hover:before {color: black;}#sk-container-id-1 div.sk-estimator:hover label.sk-toggleable__label-arrow:before {color: black;}#sk-container-id-1 div.sk-toggleable__content {max-height: 0;max-width: 0;overflow: hidden;text-align: left;background-color: #f0f8ff;}#sk-container-id-1 div.sk-toggleable__content pre {margin: 0.2em;color: black;border-radius: 0.25em;background-color: #f0f8ff;}#sk-container-id-1 input.sk-toggleable__control:checked~div.sk-toggleable__content {max-height: 200px;max-width: 100%;overflow: auto;}#sk-container-id-1 input.sk-toggleable__control:checked~label.sk-toggleable__label-arrow:before {content: \"▾\";}#sk-container-id-1 div.sk-estimator input.sk-toggleable__control:checked~label.sk-toggleable__label {background-color: #d4ebff;}#sk-container-id-1 div.sk-label input.sk-toggleable__control:checked~label.sk-toggleable__label {background-color: #d4ebff;}#sk-container-id-1 input.sk-hidden--visually {border: 0;clip: rect(1px 1px 1px 1px);clip: rect(1px, 1px, 1px, 1px);height: 1px;margin: -1px;overflow: hidden;padding: 0;position: absolute;width: 1px;}#sk-container-id-1 div.sk-estimator {font-family: monospace;background-color: #f0f8ff;border: 1px dotted black;border-radius: 0.25em;box-sizing: border-box;margin-bottom: 0.5em;}#sk-container-id-1 div.sk-estimator:hover {background-color: #d4ebff;}#sk-container-id-1 div.sk-parallel-item::after {content: \"\";width: 100%;border-bottom: 1px solid gray;flex-grow: 1;}#sk-container-id-1 div.sk-label:hover label.sk-toggleable__label {background-color: #d4ebff;}#sk-container-id-1 div.sk-serial::before {content: \"\";position: absolute;border-left: 1px solid gray;box-sizing: border-box;top: 0;bottom: 0;left: 50%;z-index: 0;}#sk-container-id-1 div.sk-serial {display: flex;flex-direction: column;align-items: center;background-color: white;padding-right: 0.2em;padding-left: 0.2em;position: relative;}#sk-container-id-1 div.sk-item {position: relative;z-index: 1;}#sk-container-id-1 div.sk-parallel {display: flex;align-items: stretch;justify-content: center;background-color: white;position: relative;}#sk-container-id-1 div.sk-item::before, #sk-container-id-1 div.sk-parallel-item::before {content: \"\";position: absolute;border-left: 1px solid gray;box-sizing: border-box;top: 0;bottom: 0;left: 50%;z-index: -1;}#sk-container-id-1 div.sk-parallel-item {display: flex;flex-direction: column;z-index: 1;position: relative;background-color: white;}#sk-container-id-1 div.sk-parallel-item:first-child::after {align-self: flex-end;width: 50%;}#sk-container-id-1 div.sk-parallel-item:last-child::after {align-self: flex-start;width: 50%;}#sk-container-id-1 div.sk-parallel-item:only-child::after {width: 0;}#sk-container-id-1 div.sk-dashed-wrapped {border: 1px dashed gray;margin: 0 0.4em 0.5em 0.4em;box-sizing: border-box;padding-bottom: 0.4em;background-color: white;}#sk-container-id-1 div.sk-label label {font-family: monospace;font-weight: bold;display: inline-block;line-height: 1.2em;}#sk-container-id-1 div.sk-label-container {text-align: center;}#sk-container-id-1 div.sk-container {/* jupyter's `normalize.less` sets `[hidden] { display: none; }` but bootstrap.min.css set `[hidden] { display: none !important; }` so we also need the `!important` here to be able to override the default hidden behavior on the sphinx rendered scikit-learn.org. See: https://github.com/scikit-learn/scikit-learn/issues/21755 */display: inline-block !important;position: relative;}#sk-container-id-1 div.sk-text-repr-fallback {display: none;}</style><div id=\"sk-container-id-1\" class=\"sk-top-container\"><div class=\"sk-text-repr-fallback\"><pre>LinearRegression()</pre><b>In a Jupyter environment, please rerun this cell to show the HTML representation or trust the notebook. <br />On GitHub, the HTML representation is unable to render, please try loading this page with nbviewer.org.</b></div><div class=\"sk-container\" hidden><div class=\"sk-item\"><div class=\"sk-estimator sk-toggleable\"><input class=\"sk-toggleable__control sk-hidden--visually\" id=\"sk-estimator-id-1\" type=\"checkbox\" checked><label for=\"sk-estimator-id-1\" class=\"sk-toggleable__label sk-toggleable__label-arrow\">LinearRegression</label><div class=\"sk-toggleable__content\"><pre>LinearRegression()</pre></div></div></div></div></div>"
      ],
      "text/plain": [
       "LinearRegression()"
      ]
     },
     "execution_count": 37,
     "metadata": {},
     "output_type": "execute_result"
    }
   ],
   "source": [
    "lr = LinearRegression()\n",
    "lr.fit(x_train, y_train)"
   ]
  },
  {
   "cell_type": "code",
   "execution_count": 38,
   "id": "900f4c60-12b1-43eb-b3ad-de5bdc86be37",
   "metadata": {},
   "outputs": [
    {
     "data": {
      "text/plain": [
       "310752.1223808641"
      ]
     },
     "execution_count": 38,
     "metadata": {},
     "output_type": "execute_result"
    }
   ],
   "source": [
    "y_pred = lr.predict(x_test)\n",
    "mean_squared_error(y_test, y_pred)"
   ]
  },
  {
   "cell_type": "code",
   "execution_count": 39,
   "id": "b32f6a91-533b-46c1-a66e-beafa060c9a5",
   "metadata": {},
   "outputs": [],
   "source": [
    "from tensorflow.keras.regularizers import l2"
   ]
  },
  {
   "cell_type": "code",
   "execution_count": 40,
   "id": "d00213b0-68aa-407d-8a41-91164b80ebcd",
   "metadata": {},
   "outputs": [],
   "source": [
    "model4 = Sequential()\n",
    "model4.add(Dense(128, input_shape = (25,), activation = \"relu\", kernel_regularizer=l2(0.01)))\n",
    "model4.add(Dense(128, activation = \"relu\", kernel_regularizer=l2(0.01)))\n",
    "model4.add(Dropout(0.15))\n",
    "model4.add(Dense(128, activation = \"relu\", kernel_regularizer=l2(0.01)))\n",
    "model4.add(Dropout(0.15))\n",
    "model4.add(Dense(64, activation = \"relu\", kernel_regularizer=l2(0.01)))\n",
    "model4.add(Dropout(0.15))\n",
    "model4.add(Dense(64, activation = \"relu\", kernel_regularizer=l2(0.01)))\n",
    "model4.add(Dropout(0.15))\n",
    "model4.add(Dense(32, activation = \"relu\", kernel_regularizer=l2(0.01)))\n",
    "model4.add(Dropout(0.15))\n",
    "model4.add(Dense(16, activation = \"relu\", kernel_regularizer=l2(0.01)))\n",
    "model4.add(Dropout(0.15))\n",
    "model4.add(Dense(8, activation = \"relu\", kernel_regularizer=l2(0.01)))\n",
    "model4.add(Dropout(0.15))\n",
    "model4.add(Dense(1, activation = None))"
   ]
  },
  {
   "cell_type": "code",
   "execution_count": 41,
   "id": "8e1220b4-94ea-4b64-99b1-6ce597479858",
   "metadata": {},
   "outputs": [
    {
     "name": "stdout",
     "output_type": "stream",
     "text": [
      "Epoch 1/40\n",
      "338/338 [==============================] - 6s 7ms/step - loss: 3069371.0000 - mean_squared_error: 3069363.7500\n",
      "Epoch 2/40\n",
      "338/338 [==============================] - 2s 7ms/step - loss: 784623.8125 - mean_squared_error: 784617.0625\n",
      "Epoch 3/40\n",
      "338/338 [==============================] - 2s 7ms/step - loss: 749175.5000 - mean_squared_error: 749167.5625\n",
      "Epoch 4/40\n",
      "338/338 [==============================] - 2s 7ms/step - loss: 729754.5000 - mean_squared_error: 729746.8125\n",
      "Epoch 5/40\n",
      "338/338 [==============================] - 2s 7ms/step - loss: 721524.1875 - mean_squared_error: 721517.3125\n",
      "Epoch 6/40\n",
      "338/338 [==============================] - 2s 7ms/step - loss: 707426.3125 - mean_squared_error: 707419.0625\n",
      "Epoch 7/40\n",
      "338/338 [==============================] - 2s 6ms/step - loss: 714375.2500 - mean_squared_error: 714367.9375\n",
      "Epoch 8/40\n",
      "338/338 [==============================] - 2s 7ms/step - loss: 690182.6250 - mean_squared_error: 690175.6875\n",
      "Epoch 9/40\n",
      "338/338 [==============================] - 2s 5ms/step - loss: 678413.3750 - mean_squared_error: 678406.1875\n",
      "Epoch 10/40\n",
      "338/338 [==============================] - 2s 5ms/step - loss: 693271.7500 - mean_squared_error: 693264.3125\n",
      "Epoch 11/40\n",
      "338/338 [==============================] - 2s 6ms/step - loss: 685472.6875 - mean_squared_error: 685465.6250\n",
      "Epoch 12/40\n",
      "338/338 [==============================] - 2s 6ms/step - loss: 667754.8750 - mean_squared_error: 667747.8125\n",
      "Epoch 13/40\n",
      "338/338 [==============================] - 2s 7ms/step - loss: 699644.0625 - mean_squared_error: 699636.7500\n",
      "Epoch 14/40\n",
      "338/338 [==============================] - 2s 6ms/step - loss: 667778.0000 - mean_squared_error: 667770.5000\n",
      "Epoch 15/40\n",
      "338/338 [==============================] - 2s 6ms/step - loss: 696977.4375 - mean_squared_error: 696969.7500\n",
      "Epoch 16/40\n",
      "338/338 [==============================] - 2s 6ms/step - loss: 677695.8125 - mean_squared_error: 677689.0625\n",
      "Epoch 17/40\n",
      "338/338 [==============================] - 2s 5ms/step - loss: 665958.1875 - mean_squared_error: 665950.9375\n",
      "Epoch 18/40\n",
      "338/338 [==============================] - 2s 5ms/step - loss: 660597.3750 - mean_squared_error: 660590.1250\n",
      "Epoch 19/40\n",
      "338/338 [==============================] - 2s 5ms/step - loss: 714123.8125 - mean_squared_error: 714116.1250\n",
      "Epoch 20/40\n",
      "338/338 [==============================] - 2s 6ms/step - loss: 664438.6250 - mean_squared_error: 664431.3750\n",
      "Epoch 21/40\n",
      "338/338 [==============================] - 2s 7ms/step - loss: 658459.2500 - mean_squared_error: 658451.6250\n",
      "Epoch 22/40\n",
      "338/338 [==============================] - 2s 6ms/step - loss: 658811.3750 - mean_squared_error: 658803.8750\n",
      "Epoch 23/40\n",
      "338/338 [==============================] - 2s 6ms/step - loss: 668827.6250 - mean_squared_error: 668820.0625\n",
      "Epoch 24/40\n",
      "338/338 [==============================] - 2s 6ms/step - loss: 658958.1875 - mean_squared_error: 658950.6250\n",
      "Epoch 25/40\n",
      "338/338 [==============================] - 2s 5ms/step - loss: 639646.8750 - mean_squared_error: 639639.5625\n",
      "Epoch 26/40\n",
      "338/338 [==============================] - 2s 5ms/step - loss: 657219.6250 - mean_squared_error: 657212.4375\n",
      "Epoch 27/40\n",
      "338/338 [==============================] - 2s 5ms/step - loss: 662471.7500 - mean_squared_error: 662464.0625\n",
      "Epoch 28/40\n",
      "338/338 [==============================] - 2s 6ms/step - loss: 653954.1250 - mean_squared_error: 653945.9375\n",
      "Epoch 29/40\n",
      "338/338 [==============================] - 2s 6ms/step - loss: 674811.0000 - mean_squared_error: 674803.1875\n",
      "Epoch 30/40\n",
      "338/338 [==============================] - 2s 6ms/step - loss: 669419.5625 - mean_squared_error: 669411.8750\n",
      "Epoch 31/40\n",
      "338/338 [==============================] - 2s 6ms/step - loss: 681161.3750 - mean_squared_error: 681153.2500\n",
      "Epoch 32/40\n",
      "338/338 [==============================] - 2s 6ms/step - loss: 631018.4375 - mean_squared_error: 631010.3125\n",
      "Epoch 33/40\n",
      "338/338 [==============================] - 2s 5ms/step - loss: 644507.5625 - mean_squared_error: 644499.5000\n",
      "Epoch 34/40\n",
      "338/338 [==============================] - 2s 5ms/step - loss: 660547.0625 - mean_squared_error: 660539.0000\n",
      "Epoch 35/40\n",
      "338/338 [==============================] - 2s 6ms/step - loss: 641445.9375 - mean_squared_error: 641437.6875\n",
      "Epoch 36/40\n",
      "338/338 [==============================] - 2s 7ms/step - loss: 647668.3750 - mean_squared_error: 647659.9375\n",
      "Epoch 37/40\n",
      "338/338 [==============================] - 2s 6ms/step - loss: 646596.8750 - mean_squared_error: 646588.7500\n",
      "Epoch 38/40\n",
      "338/338 [==============================] - 2s 7ms/step - loss: 685783.8125 - mean_squared_error: 685775.3125\n",
      "Epoch 39/40\n",
      "338/338 [==============================] - 2s 7ms/step - loss: 654141.5625 - mean_squared_error: 654132.8125\n",
      "Epoch 40/40\n",
      "338/338 [==============================] - 2s 6ms/step - loss: 637729.3750 - mean_squared_error: 637721.1250\n"
     ]
    },
    {
     "data": {
      "text/plain": [
       "<keras.callbacks.History at 0x2682b5a9e10>"
      ]
     },
     "execution_count": 41,
     "metadata": {},
     "output_type": "execute_result"
    }
   ],
   "source": [
    "model4.compile(optimizer = \"adam\", loss = \"mean_squared_error\", metrics = [\"mean_squared_error\"])\n",
    "model4.fit(x_train, y_train, epochs = 40, batch_size = 128)"
   ]
  },
  {
   "cell_type": "code",
   "execution_count": 42,
   "id": "6392d961-5785-417f-ad88-f6547981b48a",
   "metadata": {},
   "outputs": [
    {
     "name": "stdout",
     "output_type": "stream",
     "text": [
      "338/338 [==============================] - 1s 2ms/step - loss: 89138.8359 - mean_squared_error: 89130.2266\n"
     ]
    },
    {
     "data": {
      "text/plain": [
       "[89138.8359375, 89130.2265625]"
      ]
     },
     "execution_count": 42,
     "metadata": {},
     "output_type": "execute_result"
    }
   ],
   "source": [
    "model4.evaluate(x_test, y_test)"
   ]
  },
  {
   "cell_type": "code",
   "execution_count": null,
   "id": "ebe0bdf3-9e70-4801-bd16-f064a39063e9",
   "metadata": {},
   "outputs": [],
   "source": []
  }
 ],
 "metadata": {
  "kernelspec": {
   "display_name": "Python 3 (ipykernel)",
   "language": "python",
   "name": "python3"
  },
  "language_info": {
   "codemirror_mode": {
    "name": "ipython",
    "version": 3
   },
   "file_extension": ".py",
   "mimetype": "text/x-python",
   "name": "python",
   "nbconvert_exporter": "python",
   "pygments_lexer": "ipython3",
   "version": "3.10.9"
  }
 },
 "nbformat": 4,
 "nbformat_minor": 5
}
